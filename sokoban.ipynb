{
 "cells": [
  {
   "attachments": {},
   "cell_type": "markdown",
   "metadata": {},
   "source": [
    "## Sokoban analysis"
   ]
  },
  {
   "cell_type": "code",
   "execution_count": null,
   "metadata": {},
   "outputs": [],
   "source": [
    "import pandas as pd\n",
    "import numpy as np\n",
    "import matplotlib.pyplot as plt\n",
    "import seaborn as sns"
   ]
  },
  {
   "cell_type": "code",
   "execution_count": null,
   "metadata": {},
   "outputs": [],
   "source": [
    "games = pd.read_csv('games.csv')\n",
    "levels = pd.read_csv('levels.csv')"
   ]
  },
  {
   "cell_type": "code",
   "execution_count": null,
   "metadata": {},
   "outputs": [],
   "source": [
    "pattern = '|'.join(['kevin', 'mihkel', 'udam', 'elle', 'test'])\n",
    "\n",
    "games_filtered = games[~games['id_code'].str.contains(pattern, case=False, na=False)]\n",
    "\n",
    "games_filtered.describe()\n"
   ]
  },
  {
   "cell_type": "code",
   "execution_count": null,
   "metadata": {},
   "outputs": [],
   "source": [
    "filtered_game_ids = games_filtered['id']\n",
    "levels_filtered = levels[levels['game_id'].isin(filtered_game_ids)]\n",
    "\n",
    "levels_filtered.info()"
   ]
  },
  {
   "cell_type": "code",
   "execution_count": null,
   "metadata": {},
   "outputs": [],
   "source": [
    "#Remove broken Safari games\n",
    "game_ids_in_levels = levels_filtered['game_id'].unique()\n",
    "games_filtered = games_filtered[games_filtered['id'].isin(game_ids_in_levels)]\n",
    "\n",
    "games_filtered.info()\n"
   ]
  },
  {
   "attachments": {},
   "cell_type": "markdown",
   "metadata": {},
   "source": [
    "## Results overview"
   ]
  },
  {
   "attachments": {},
   "cell_type": "markdown",
   "metadata": {},
   "source": [
    "### Level attempts vs successes"
   ]
  },
  {
   "cell_type": "code",
   "execution_count": null,
   "metadata": {},
   "outputs": [],
   "source": [
    "# Count total attempts per level\n",
    "\n",
    "# drop rows where level_id is 15\n",
    "\n",
    "levels_filtered = levels_filtered[levels_filtered['level_id'] != 15]\n",
    "total_attempts = levels_filtered['level_id'].value_counts().reset_index()\n",
    "total_attempts.columns = ['level_id', 'total_attempts']\n",
    "\n",
    "# Count how many times the level was passed\n",
    "passed_attempts = levels_filtered[(~levels_filtered['end_time'].isna()) & (levels_filtered['skipped'] != 't')]['level_id'].value_counts().reset_index()\n",
    "passed_attempts.columns = ['level_id', 'passed_attempts']\n",
    "\n",
    "# Merge the two dataframes\n",
    "df = pd.merge(total_attempts, passed_attempts, on='level_id')\n",
    "\n",
    "# Calculate success percentage\n",
    "df['success_percentage'] = df['passed_attempts'] / df['total_attempts'] * 100\n",
    "\n",
    "# Create a bar plot\n",
    "plt.figure(figsize=(12,8))\n",
    "p1 = sns.barplot(data=df, x='level_id', y='total_attempts', color='skyblue', label='Total Attempts')\n",
    "p2 = sns.barplot(data=df, x='level_id', y='passed_attempts', color='olive', label='Successful Attempts')\n",
    "\n",
    "plt.legend(title='Attempts')\n",
    "plt.xlabel('Level ID')\n",
    "plt.ylabel('Number of Attempts')\n",
    "plt.title('Total vs Successful Attempts per Level')\n",
    "plt.show()"
   ]
  },
  {
   "attachments": {},
   "cell_type": "markdown",
   "metadata": {},
   "source": [
    "## Levels ordered by success rate"
   ]
  },
  {
   "cell_type": "code",
   "execution_count": null,
   "metadata": {},
   "outputs": [],
   "source": [
    "df['level_id'] = df['level_id'].astype(str)\n",
    "df = df.sort_values(by='success_percentage', ascending=False)\n",
    "\n",
    "# Create a bar plot\n",
    "plt.figure(figsize=(12,8))\n",
    "p1 = sns.barplot(data=df, x='level_id', y='success_percentage', color='skyblue', label='Success Percentage')\n",
    "\n",
    "# Add percentage text on top of each bar\n",
    "for p in p1.patches:\n",
    "    percentage = '{:.1f}%'.format(p.get_height())\n",
    "    p1.annotate(percentage, (p.get_x() + p.get_width() / 2., p.get_height()), ha = 'center', va = 'center', xytext = (0, 10), textcoords = 'offset points')\n",
    "\n",
    "plt.legend()\n",
    "plt.xlabel('Level ID')\n",
    "plt.ylabel('Success Percentage')\n",
    "plt.title('Success Percentage per Level')\n",
    "plt.show()"
   ]
  },
  {
   "attachments": {},
   "cell_type": "markdown",
   "metadata": {},
   "source": [
    "## Levels ordered by median time"
   ]
  },
  {
   "cell_type": "code",
   "execution_count": null,
   "metadata": {},
   "outputs": [],
   "source": [
    "# Select entries with both end_time and start_time\n",
    "valid_entries = levels_filtered.dropna(subset=['start_time', 'end_time']).copy()\n",
    "valid_entries = valid_entries[valid_entries['skipped'] != 't']\n",
    "valid_entries['level_id'] = valid_entries['level_id'].astype(str)\n",
    "\n",
    "# Convert end_time and start_time to datetime\n",
    "valid_entries['end_time'] = pd.to_datetime(valid_entries['end_time'])\n",
    "valid_entries['start_time'] = pd.to_datetime(valid_entries['start_time'])\n",
    "\n",
    "# Calculate completion time in seconds\n",
    "valid_entries.loc[:, 'completion_time'] = (valid_entries['end_time'] - valid_entries['start_time']).dt.total_seconds()\n",
    "valid_entries = valid_entries[valid_entries['completion_time'] < 1300]\n",
    "\n",
    "median_times = valid_entries.groupby('level_id')['completion_time'].median().sort_values()\n",
    "\n",
    "# Order your dataframe according to median_times\n",
    "valid_entries['level_id'] = pd.Categorical(valid_entries['level_id'], categories=median_times.index, ordered=True)"
   ]
  },
  {
   "cell_type": "code",
   "execution_count": null,
   "metadata": {},
   "outputs": [],
   "source": [
    "plt.figure(figsize=(16,8))\n",
    "sns.boxplot(x='level_id', y='completion_time', data=valid_entries)\n",
    "plt.xlabel('Level ID')\n",
    "plt.ylabel('Completion Time (seconds)')\n",
    "plt.title('Distribution of Completion Time per Level')\n",
    "plt.xticks(rotation=90)  # This rotates the x-axis labels for better visibility if you have many levels\n",
    "plt.show()"
   ]
  },
  {
   "cell_type": "code",
   "execution_count": null,
   "metadata": {},
   "outputs": [],
   "source": [
    "plt.figure(figsize=(16, 8))\n",
    "sns.barplot(x=median_times.index, y=median_times.values, color='skyblue')\n",
    "plt.xlabel('Level ID')\n",
    "plt.ylabel('Median Completion Time (seconds)')\n",
    "plt.title('Median Completion Time per Level')\n",
    "plt.xticks(rotation=90)  # This rotates the x-axis labels for better visibility if you have many levels\n",
    "plt.show()"
   ]
  },
  {
   "attachments": {},
   "cell_type": "markdown",
   "metadata": {},
   "source": [
    "## Player progression stats"
   ]
  },
  {
   "cell_type": "code",
   "execution_count": null,
   "metadata": {},
   "outputs": [],
   "source": [
    "# Filter the dataframe\n",
    "completed_levels = levels_filtered[(~levels_filtered['start_time'].isna()) & \n",
    "                                   (~levels_filtered['end_time'].isna()) & \n",
    "                                   (levels_filtered['skipped'] == 'f')]\n",
    "\n",
    "# Calculate completed levels per game\n",
    "completed_levels_per_game = completed_levels.groupby('game_id')['level_id'].count()\n",
    "\n",
    "average_levels = completed_levels_per_game.mean()\n",
    "median_levels = completed_levels_per_game.median()\n",
    "\n",
    "print(f\"Average completed levels per player: {average_levels}\")\n",
    "print(f\"Median completed levels per player: {median_levels}\")\n",
    "print(\"\\n\")\n",
    "\n",
    "# print number of games with 1 level completed\n",
    "\n",
    "print(f\"Number of games with 1 level completed: {len(completed_levels_per_game[completed_levels_per_game == 1])}\")\n",
    "print(f\"Number of games with 2 levels completed: {len(completed_levels_per_game[completed_levels_per_game == 2])}\")\n",
    "print(f\"Number of games with 3 levels completed: {len(completed_levels_per_game[completed_levels_per_game == 3])}\")\n",
    "print(f\"Number of games with at least 4 levels completed: {len(completed_levels_per_game[(completed_levels_per_game >= 4)])}\")\n",
    "\n",
    "print(\"\\n\")\n",
    "print(f\"Most successful players and their number of levels completed:\\n {completed_levels_per_game.sort_values(ascending=False).head(5)}\");\n",
    "\n",
    "# List all ids of games with 1 levels completed\n",
    "games_with_1_level = completed_levels_per_game[completed_levels_per_game == 1].index.values\n",
    "\n",
    "print(games_with_1_level)\n",
    "\n",
    "\n",
    "\n",
    "\n",
    "\n"
   ]
  },
  {
   "attachments": {},
   "cell_type": "markdown",
   "metadata": {},
   "source": [
    "# Takeaways\n",
    "\n",
    "* The data gives a pretty good idea of level difficulty and how to order them.\n",
    "* Success percentage for most of the levels is under 50%. Should we add more easy levels?\n",
    "* Median completion time was around 1 minute for easy ones, 5 minutes for the medium difficulty and 10 for harder ones. However we need to take into account that skipping was allowed. So when we eliminate skipping more of the slower people are going to finish levels and the median time will go up considerably. Also currently many people played multiple times and that also brought median time down.\n",
    "* Taking that into account, 10-12 total levels is probably enough for the final game (assuming 1-2 game attempts per student)\n",
    "* 1/3 of people gave up after the intro level - game too hard? Too little incentive to make an effort? Probably the random hard levels in the beginning threw many people off. Would be nice to test on current students with ordered levels and success-based incentives.\n"
   ]
  }
 ],
 "metadata": {
  "kernelspec": {
   "display_name": "Python 3",
   "language": "python",
   "name": "python3"
  },
  "language_info": {
   "codemirror_mode": {
    "name": "ipython",
    "version": 3
   },
   "file_extension": ".py",
   "mimetype": "text/x-python",
   "name": "python",
   "nbconvert_exporter": "python",
   "pygments_lexer": "ipython3",
   "version": "3.10.8"
  },
  "orig_nbformat": 4
 },
 "nbformat": 4,
 "nbformat_minor": 2
}
